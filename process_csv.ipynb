{
 "cells": [
  {
   "cell_type": "code",
   "execution_count": null,
   "id": "98a749f1",
   "metadata": {},
   "outputs": [],
   "source": [
    "import pandas as pd"
   ]
  },
  {
   "cell_type": "code",
   "execution_count": null,
   "id": "d20fef02",
   "metadata": {},
   "outputs": [],
   "source": [
    "#read csv\n",
    "df = pd.read_csv(\"marketing_campaign.csv\")"
   ]
  },
  {
   "cell_type": "code",
   "execution_count": null,
   "id": "1f901b54",
   "metadata": {},
   "outputs": [],
   "source": [
    "df"
   ]
  },
  {
   "cell_type": "code",
   "execution_count": null,
   "id": "20cab6b8",
   "metadata": {},
   "outputs": [],
   "source": [
    "#get columns names\n",
    "columns = df.columns[0].split(\"\\t\")"
   ]
  },
  {
   "cell_type": "code",
   "execution_count": null,
   "id": "28015607",
   "metadata": {},
   "outputs": [],
   "source": [
    "columns"
   ]
  },
  {
   "cell_type": "code",
   "execution_count": null,
   "id": "b1a26d36",
   "metadata": {},
   "outputs": [],
   "source": [
    "#craete new dict to append all data\n",
    "new_df = {}\n",
    "\n",
    "for row in df[df.columns[0]]:\n",
    "    for i, col in enumerate(columns):\n",
    "        if(col in new_df):\n",
    "            new_df[col].append(row.split(\"\\t\")[i])\n",
    "        else:\n",
    "            new_df[col] = []\n",
    "            new_df[col].append(row.split(\"\\t\")[i])\n",
    "            "
   ]
  },
  {
   "cell_type": "code",
   "execution_count": null,
   "id": "a65d6516",
   "metadata": {},
   "outputs": [],
   "source": [
    "new_df[\"Dt_Customer\"]"
   ]
  },
  {
   "cell_type": "code",
   "execution_count": null,
   "id": "26485cea",
   "metadata": {},
   "outputs": [],
   "source": [
    "#convert dict to dataframe and save as csv\n",
    "final_df = pd.DataFrame(new_df)\n",
    "final_df = final_df.set_index(\"ID\")\n",
    "final_df.to_csv(\"corrected_marketing_campaign.csv\",)"
   ]
  },
  {
   "cell_type": "code",
   "execution_count": null,
   "id": "4429877c",
   "metadata": {},
   "outputs": [],
   "source": []
  }
 ],
 "metadata": {
  "kernelspec": {
   "display_name": "Python 3 (ipykernel)",
   "language": "python",
   "name": "python3"
  },
  "language_info": {
   "codemirror_mode": {
    "name": "ipython",
    "version": 3
   },
   "file_extension": ".py",
   "mimetype": "text/x-python",
   "name": "python",
   "nbconvert_exporter": "python",
   "pygments_lexer": "ipython3",
   "version": "3.9.7"
  }
 },
 "nbformat": 4,
 "nbformat_minor": 5
}
